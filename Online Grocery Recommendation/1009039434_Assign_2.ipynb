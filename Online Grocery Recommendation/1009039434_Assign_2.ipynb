{
 "cells": [
  {
   "cell_type": "code",
   "execution_count": 1,
   "metadata": {
    "id": "8BzLX3NhMkEs"
   },
   "outputs": [
    {
     "ename": "ModuleNotFoundError",
     "evalue": "No module named 'mlxtend'",
     "output_type": "error",
     "traceback": [
      "\u001b[1;31m---------------------------------------------------------------------------\u001b[0m",
      "\u001b[1;31mModuleNotFoundError\u001b[0m                       Traceback (most recent call last)",
      "\u001b[1;32m<ipython-input-1-cc82bdf1e477>\u001b[0m in \u001b[0;36m<module>\u001b[1;34m\u001b[0m\n\u001b[0;32m      5\u001b[0m \u001b[1;32mimport\u001b[0m \u001b[0mdatetime\u001b[0m \u001b[1;32mas\u001b[0m \u001b[0mdt\u001b[0m\u001b[1;33m\u001b[0m\u001b[1;33m\u001b[0m\u001b[0m\n\u001b[0;32m      6\u001b[0m \u001b[1;32mimport\u001b[0m \u001b[0mwarnings\u001b[0m\u001b[1;33m\u001b[0m\u001b[1;33m\u001b[0m\u001b[0m\n\u001b[1;32m----> 7\u001b[1;33m \u001b[1;32mfrom\u001b[0m \u001b[0mmlxtend\u001b[0m\u001b[1;33m.\u001b[0m\u001b[0mpreprocessing\u001b[0m \u001b[1;32mimport\u001b[0m \u001b[0mTransactionEncoder\u001b[0m\u001b[1;33m\u001b[0m\u001b[1;33m\u001b[0m\u001b[0m\n\u001b[0m\u001b[0;32m      8\u001b[0m \u001b[1;32mfrom\u001b[0m \u001b[0mmlxtend\u001b[0m\u001b[1;33m.\u001b[0m\u001b[0mfrequent_patterns\u001b[0m \u001b[1;32mimport\u001b[0m \u001b[0mapriori\u001b[0m\u001b[1;33m,\u001b[0m \u001b[0massociation_rules\u001b[0m\u001b[1;33m\u001b[0m\u001b[1;33m\u001b[0m\u001b[0m\n\u001b[0;32m      9\u001b[0m \u001b[1;32mfrom\u001b[0m \u001b[0msklearn\u001b[0m\u001b[1;33m.\u001b[0m\u001b[0mmetrics\u001b[0m\u001b[1;33m.\u001b[0m\u001b[0mpairwise\u001b[0m \u001b[1;32mimport\u001b[0m \u001b[0mpairwise_distances\u001b[0m\u001b[1;33m\u001b[0m\u001b[1;33m\u001b[0m\u001b[0m\n",
      "\u001b[1;31mModuleNotFoundError\u001b[0m: No module named 'mlxtend'"
     ]
    }
   ],
   "source": [
    "import numpy as np\n",
    "import pandas as pd\n",
    "import matplotlib.pyplot as plt\n",
    "import seaborn as sns\n",
    "import datetime as dt\n",
    "import warnings\n",
    "from mlxtend.preprocessing import TransactionEncoder\n",
    "from mlxtend.frequent_patterns import apriori, association_rules\n",
    "from sklearn.metrics.pairwise import pairwise_distances\n",
    "from matplotlib import pyplot as plt\n",
    "from scipy.spatial.distance import pdist, squareform\n",
    "import pandas as pd\n",
    "warnings.filterwarnings('ignore')\n",
    "sns.set()"
   ]
  },
  {
   "cell_type": "code",
   "execution_count": null,
   "metadata": {
    "colab": {
     "base_uri": "https://localhost:8080/",
     "height": 206
    },
    "id": "cBgaPk1gM0YS",
    "outputId": "dd7d61c5-c8f8-4888-98ae-1c326656ef77"
   },
   "outputs": [],
   "source": [
    "data = pd.read_excel('Data.xls', sheet_name = ['POS DATA'])\n",
    "df_raw = data['POS DATA']\n",
    "df_raw.head()"
   ]
  },
  {
   "cell_type": "code",
   "execution_count": null,
   "metadata": {
    "colab": {
     "base_uri": "https://localhost:8080/"
    },
    "id": "c29qihQnM_TL",
    "outputId": "7f105fb3-a875-4185-aec0-46fd29ee0697"
   },
   "outputs": [],
   "source": [
    "print(df_raw.shape)"
   ]
  },
  {
   "cell_type": "code",
   "execution_count": null,
   "metadata": {
    "colab": {
     "base_uri": "https://localhost:8080/"
    },
    "id": "_Olxi-T0Nm6X",
    "outputId": "7f4c86c1-94c8-411f-8ea9-8a87677acdf9"
   },
   "outputs": [],
   "source": [
    "df_raw.Description.unique()"
   ]
  },
  {
   "cell_type": "code",
   "execution_count": null,
   "metadata": {
    "colab": {
     "base_uri": "https://localhost:8080/",
     "height": 206
    },
    "id": "B3enUJ8UNr1K",
    "outputId": "95179809-1747-4f07-a7d3-aaa2be1c6c6e"
   },
   "outputs": [],
   "source": [
    "df_raw = df_raw[~ df_raw.Description.isin(['CFLs,cfls,7832553,2,0\\r\\n7831582,Channa Dal,channa-dal,7832491,2,0\\r\\n7832360,Cheese,cheese,7832363,2,0\\r\\n7831689,Chewing Gum,chewing-gum,7831685,2,0\\r\\n7832047,ChildrenS Books'])]\n",
    "df_raw.head()"
   ]
  },
  {
   "cell_type": "code",
   "execution_count": null,
   "metadata": {
    "id": "s3o5vHNPZmnh"
   },
   "outputs": [],
   "source": [
    "df_f = df_raw.copy()"
   ]
  },
  {
   "cell_type": "code",
   "execution_count": null,
   "metadata": {
    "colab": {
     "base_uri": "https://localhost:8080/",
     "height": 206
    },
    "id": "Q3j1-U_EOSUL",
    "outputId": "2b8ae79d-1cda-4bcf-a80c-708a1db1033d"
   },
   "outputs": [],
   "source": [
    "df_raw['Created On']=pd.to_datetime(df_raw['Created On'])\n",
    "df_raw['Year'] = df_raw['Created On'].dt.year\n",
    "df_raw['Month'] = df_raw['Created On'].dt.month\n",
    "df_raw['Day'] = df_raw['Created On'].dt.day\n",
    "df_raw['Time'] = df_raw['Created On'].dt.time\n",
    "df_raw['Day of Week'] = df_raw['Created On'].dt.day_name()\n",
    "df_raw.head()"
   ]
  },
  {
   "cell_type": "code",
   "execution_count": null,
   "metadata": {
    "colab": {
     "base_uri": "https://localhost:8080/"
    },
    "id": "cnLU2NqpYeyP",
    "outputId": "9bb9c315-2ef5-42e9-b138-6feac0ce0a40"
   },
   "outputs": [],
   "source": [
    "df_raw.Year.unique()"
   ]
  },
  {
   "cell_type": "code",
   "execution_count": null,
   "metadata": {
    "colab": {
     "base_uri": "https://localhost:8080/"
    },
    "id": "VjLSYIxbY9Ec",
    "outputId": "6ba7bcba-f7b7-4491-b680-f067558794a5"
   },
   "outputs": [],
   "source": [
    "df_raw_items = df_raw[df_raw['Year'].isin([2014,2013])]\n",
    "df_raw_items = df_raw.groupby(['Description'])['Member'].count().reset_index()\n",
    "df_raw_items = df_raw_items.sort_values(by = 'Member', ascending = False)\n",
    "df_raw_items = df_raw_items.head(10)\n",
    "top_items = df_raw_items['Description'].tolist()\n",
    "top_items"
   ]
  },
  {
   "cell_type": "code",
   "execution_count": null,
   "metadata": {
    "colab": {
     "base_uri": "https://localhost:8080/",
     "height": 424
    },
    "id": "8JEgDSijOepE",
    "outputId": "2142882f-e491-49e0-a674-dda5ffd19c62"
   },
   "outputs": [],
   "source": [
    "df_raw_day = df_raw[(df_raw['Year'].isin([2014,2013])) & (df_raw['Description'].isin(top_items))]\n",
    "df_raw_day = df_raw_day.groupby(['Day of Week','Description'])['Member'].count().reset_index()\n",
    "df_raw_day"
   ]
  },
  {
   "cell_type": "code",
   "execution_count": null,
   "metadata": {
    "colab": {
     "base_uri": "https://localhost:8080/",
     "height": 601
    },
    "id": "ZmP263mBet43",
    "outputId": "5bd86934-1d2a-4a60-dae8-f7978c54a375"
   },
   "outputs": [],
   "source": [
    "grouped_data = df_raw_day.groupby('Description')['Member'].sum()\n",
    "sorted_grouped_data = grouped_data.sort_values(ascending=False)\n",
    "plt.figure(figsize=(10, 6))\n",
    "bars = plt.bar(sorted_grouped_data.index, sorted_grouped_data.values)\n",
    "plt.xlabel('Description')\n",
    "plt.ylabel('Count')\n",
    "plt.title('Sales by Description in Descending Order')\n",
    "plt.xticks(rotation=45)\n",
    "plt.tight_layout()\n",
    "plt.show()"
   ]
  },
  {
   "cell_type": "markdown",
   "metadata": {
    "id": "RfAciFReg72J"
   },
   "source": [
    "\n",
    "\n",
    "\n",
    "*   The above graph presents the top 10 items sold across 2013-2014\n",
    "*   We see that Other Vegetables, Root Vegetables and Beans have the highest sales throughout 2013 and 2014\n",
    "*   Now we will be focusing on day wise sales for a better understanding\n",
    "\n",
    "\n",
    "\n"
   ]
  },
  {
   "cell_type": "code",
   "execution_count": null,
   "metadata": {
    "colab": {
     "base_uri": "https://localhost:8080/",
     "height": 1000
    },
    "id": "2sNByAx-bHeU",
    "outputId": "19f84fcc-d716-4105-cb5c-08ff162fafec"
   },
   "outputs": [],
   "source": [
    "day_order = ['Monday', 'Tuesday', 'Wednesday', 'Thursday', 'Friday', 'Saturday', 'Sunday']\n",
    "df_raw_day['Day of Week'] = pd.Categorical(df_raw_day['Day of Week'], categories=day_order, ordered=True)\n",
    "df_raw_day = df_raw_day.sort_values(['Day of Week', 'Description'], ascending=[True, False])\n",
    "\n",
    "days = df_raw_day['Day of Week'].unique()\n",
    "n_subplots = len(days)\n",
    "\n",
    "n_cols = 2\n",
    "n_rows = n_subplots // n_cols + (n_subplots % n_cols > 0)\n",
    "\n",
    "fig, axs = plt.subplots(n_rows, n_cols, figsize=(10, 6*n_rows))\n",
    "\n",
    "axs = axs.flatten()\n",
    "\n",
    "colors = plt.cm.viridis(np.linspace(0, 1, len(df_raw_day['Description'].unique())))\n",
    "\n",
    "for i, day in enumerate(days):\n",
    "    df_day = df_raw_day[df_raw_day['Day of Week'] == day]\n",
    "\n",
    "    color_map = {desc: colors[j] for j, desc in enumerate(df_day['Description'].unique())}\n",
    "    bar_colors = df_day['Description'].map(color_map)\n",
    "\n",
    "    axs[i].bar(df_day['Description'], df_day['Member'], color=bar_colors)\n",
    "    axs[i].set_title(day)\n",
    "    axs[i].set_ylabel('Members')\n",
    "    axs[i].set_xlabel('Description')\n",
    "    for label in axs[i].get_xticklabels():\n",
    "        label.set_rotation(45)\n",
    "        label.set_horizontalalignment('right')\n",
    "\n",
    "for ax in axs[n_subplots:]:\n",
    "    ax.set_visible(False)\n",
    "\n",
    "plt.tight_layout()\n",
    "plt.show()"
   ]
  },
  {
   "cell_type": "markdown",
   "metadata": {
    "id": "u6lRetEycvEO"
   },
   "source": [
    "\n",
    "\n",
    "*   \"Root Vegetables\" is a top-selling item with the highest sales consistently across the week.\n",
    "*   Sales for \"Beans\" and other items show variability but generally have a moderate sales volume.\n",
    "*   The color-coded bar charts enable easy tracking of sales trends for each item across different days.\n",
    "*   Curd & Cucumber shows the maximum variation in sales throughout the week, signaling a fluctuating demand that might be influenced by external factors such as weekly specials, seasonal availability, or shopping habits.\n",
    "*   The visual data suggests key insights for inventory management and could inform targeted marketing efforts for days with lower sales.\n",
    "\n",
    "\n",
    "\n",
    "\n",
    "\n",
    "\n",
    "\n",
    "\n",
    "\n",
    "\n"
   ]
  },
  {
   "cell_type": "code",
   "execution_count": 2,
   "metadata": {
    "colab": {
     "base_uri": "https://localhost:8080/",
     "height": 1000
    },
    "id": "rb1kVth2TJxT",
    "outputId": "3b7d0d19-5a2b-4997-a924-4d25199dffda"
   },
   "outputs": [
    {
     "ename": "NameError",
     "evalue": "name 'df_raw' is not defined",
     "output_type": "error",
     "traceback": [
      "\u001b[1;31m---------------------------------------------------------------------------\u001b[0m",
      "\u001b[1;31mNameError\u001b[0m                                 Traceback (most recent call last)",
      "\u001b[1;32m<ipython-input-2-0145dde9bc40>\u001b[0m in \u001b[0;36m<module>\u001b[1;34m\u001b[0m\n\u001b[1;32m----> 1\u001b[1;33m \u001b[0mtotal_orders_per_member\u001b[0m \u001b[1;33m=\u001b[0m \u001b[0mdf_raw\u001b[0m\u001b[1;33m.\u001b[0m\u001b[0mgroupby\u001b[0m\u001b[1;33m(\u001b[0m\u001b[1;34m'Member'\u001b[0m\u001b[1;33m)\u001b[0m\u001b[1;33m[\u001b[0m\u001b[1;34m'Member'\u001b[0m\u001b[1;33m]\u001b[0m\u001b[1;33m.\u001b[0m\u001b[0mcount\u001b[0m\u001b[1;33m(\u001b[0m\u001b[1;33m)\u001b[0m\u001b[1;33m\u001b[0m\u001b[1;33m\u001b[0m\u001b[0m\n\u001b[0m\u001b[0;32m      2\u001b[0m \u001b[0mtop_10_members\u001b[0m \u001b[1;33m=\u001b[0m \u001b[0mtotal_orders_per_member\u001b[0m\u001b[1;33m.\u001b[0m\u001b[0msort_values\u001b[0m\u001b[1;33m(\u001b[0m\u001b[0mascending\u001b[0m\u001b[1;33m=\u001b[0m\u001b[1;32mFalse\u001b[0m\u001b[1;33m)\u001b[0m\u001b[1;33m.\u001b[0m\u001b[0mhead\u001b[0m\u001b[1;33m(\u001b[0m\u001b[1;36m10\u001b[0m\u001b[1;33m)\u001b[0m\u001b[1;33m.\u001b[0m\u001b[0mindex\u001b[0m\u001b[1;33m\u001b[0m\u001b[1;33m\u001b[0m\u001b[0m\n\u001b[0;32m      3\u001b[0m \u001b[0mdf_top_10_members\u001b[0m \u001b[1;33m=\u001b[0m \u001b[0mdf_raw\u001b[0m\u001b[1;33m[\u001b[0m\u001b[0mdf_raw\u001b[0m\u001b[1;33m[\u001b[0m\u001b[1;34m'Member'\u001b[0m\u001b[1;33m]\u001b[0m\u001b[1;33m.\u001b[0m\u001b[0misin\u001b[0m\u001b[1;33m(\u001b[0m\u001b[0mtop_10_members\u001b[0m\u001b[1;33m)\u001b[0m\u001b[1;33m]\u001b[0m\u001b[1;33m\u001b[0m\u001b[1;33m\u001b[0m\u001b[0m\n\u001b[0;32m      4\u001b[0m \u001b[0morders_per_year_member\u001b[0m \u001b[1;33m=\u001b[0m \u001b[0mdf_top_10_members\u001b[0m\u001b[1;33m.\u001b[0m\u001b[0mgroupby\u001b[0m\u001b[1;33m(\u001b[0m\u001b[1;33m[\u001b[0m\u001b[1;34m'Year'\u001b[0m\u001b[1;33m,\u001b[0m \u001b[1;34m'Member'\u001b[0m\u001b[1;33m]\u001b[0m\u001b[1;33m)\u001b[0m\u001b[1;33m.\u001b[0m\u001b[0msize\u001b[0m\u001b[1;33m(\u001b[0m\u001b[1;33m)\u001b[0m\u001b[1;33m\u001b[0m\u001b[1;33m\u001b[0m\u001b[0m\n\u001b[0;32m      5\u001b[0m \u001b[0morders_per_year_member\u001b[0m \u001b[1;33m=\u001b[0m \u001b[0morders_per_year_member\u001b[0m\u001b[1;33m.\u001b[0m\u001b[0mreset_index\u001b[0m\u001b[1;33m(\u001b[0m\u001b[0mname\u001b[0m\u001b[1;33m=\u001b[0m\u001b[1;34m'Orders'\u001b[0m\u001b[1;33m)\u001b[0m\u001b[1;33m\u001b[0m\u001b[1;33m\u001b[0m\u001b[0m\n",
      "\u001b[1;31mNameError\u001b[0m: name 'df_raw' is not defined"
     ]
    }
   ],
   "source": [
    "total_orders_per_member = df_raw.groupby('Member')['Member'].count()\n",
    "top_10_members = total_orders_per_member.sort_values(ascending=False).head(10).index\n",
    "df_top_10_members = df_raw[df_raw['Member'].isin(top_10_members)]\n",
    "orders_per_year_member = df_top_10_members.groupby(['Year', 'Member']).size()\n",
    "orders_per_year_member = orders_per_year_member.reset_index(name='Orders')\n",
    "orders_per_year_member.columns = ['Year', 'Member', 'Orders']\n",
    "orders_per_year_member"
   ]
  },
  {
   "cell_type": "code",
   "execution_count": 14,
   "metadata": {
    "colab": {
     "base_uri": "https://localhost:8080/",
     "height": 480
    },
    "id": "1LSi1_w-oaRY",
    "outputId": "b00d208e-f16f-42e1-d019-079d25e165cb"
   },
   "outputs": [
    {
     "data": {
      "image/png": "[encoded data removed]",
      "text/plain": [
       "<Figure size 640x480 with 1 Axes>"
      ]
     },
     "metadata": {},
     "output_type": "display_data"
    }
   ],
   "source": [
    "members = orders_per_year_member['Member'].unique()\n",
    "for member in members:\n",
    "    member_data = orders_per_year_member[orders_per_year_member['Member'] == member]\n",
    "\n",
    "    plt.plot(member_data['Year'], member_data['Orders'], label=member)\n",
    "plt.title('Orders per Year per Member')\n",
    "plt.xlabel('Year')\n",
    "plt.ylabel(member)\n",
    "plt.legend()\n",
    "plt.show()"
   ]
  },
  {
   "cell_type": "markdown",
   "metadata": {
    "id": "gHIQZ9LSoswJ"
   },
   "source": [
    "\n",
    "\n",
    "\n",
    "*   The above graph contains trend of members who ordered max items throughout 4 years.\n",
    "*   This graph can be used to analyse trends of how conusmers order and how much items they'll be willing to add.\n",
    "*   We can see that there are only two members whi have ordered in 2011\n",
    "*   M38622 placed the highest orders for 2013 and 2014 and should be provided with better recommendations as he is more likely to buy more items.\n",
    "\n"
   ]
  },
  {
   "cell_type": "markdown",
   "metadata": {
    "id": "qG2NBj1OpTRW"
   },
   "source": [
    "#Q2"
   ]
  },
  {
   "cell_type": "code",
   "execution_count": 15,
   "metadata": {
    "id": "3aNhn_elpuq1"
   },
   "outputs": [],
   "source": [
    "def apriori_recommender(df, member_id, min_support, top):\n",
    "    df_grouped = df.groupby(['Member', 'Order'])['Description'].agg(list).reset_index()\n",
    "    df = df_grouped[df_grouped['Member'] == member_id]\n",
    "    te = TransactionEncoder()\n",
    "    te_ary = te.fit(df['Description']).transform(df['Description'])\n",
    "    df = pd.DataFrame(te_ary, columns=te.columns_)\n",
    "    frequent_itemsets = apriori(df, min_support=min_support, use_colnames=True)\n",
    "    frequent_itemsets.sort_values(['support'],ascending=False)\n",
    "    wooden_star_rules = association_rules(frequent_itemsets, metric=\"lift\", min_threshold=.5)\n",
    "    final_rec = wooden_star_rules.\\\n",
    "    sort_values(['lift','support'],ascending=False).\\\n",
    "    reset_index(drop=True).\\\n",
    "    loc[:,['antecedents','consequents','antecedent support','consequent support','confidence','lift']]\n",
    "    return final_rec.head(top)"
   ]
  },
  {
   "cell_type": "code",
   "execution_count": 16,
   "metadata": {
    "colab": {
     "base_uri": "https://localhost:8080/",
     "height": 143
    },
    "id": "nAqoN0NkqCXQ",
    "outputId": "9d782255-7430-4fd3-f773-c17c52abc08b"
   },
   "outputs": [
    {
     "data": {
      "application/vnd.google.colaboratory.intrinsic+json": {
       "summary": "{\n  \"name\": \"apriori_recommender(df_raw, 'M36432', 0\",\n  \"rows\": 3,\n  \"fields\": [\n    {\n      \"column\": \"antecedents\",\n      \"properties\": {\n        \"dtype\": \"string\",\n        \"num_unique_values\": 3,\n        \"samples\": [\n          \"frozenset({'Gourd & Cucumber'})\",\n          \"frozenset({'Brinjals'})\",\n          \"frozenset({'Other Vegetables'})\"\n        ],\n        \"semantic_type\": \"\",\n        \"description\": \"\"\n      }\n    },\n    {\n      \"column\": \"consequents\",\n      \"properties\": {\n        \"dtype\": \"string\",\n        \"num_unique_values\": 3,\n        \"samples\": [\n          \"frozenset({'Brinjals'})\",\n          \"frozenset({'Gourd & Cucumber'})\",\n          \"frozenset({'Beans'})\"\n        ],\n        \"semantic_type\": \"\",\n        \"description\": \"\"\n      }\n    },\n    {\n      \"column\": \"antecedent support\",\n      \"properties\": {\n        \"dtype\": \"number\",\n        \"std\": 0.06049604877829492,\n        \"min\": 0.18316831683168316,\n        \"max\": 0.30198019801980197,\n        \"num_unique_values\": 3,\n        \"samples\": [\n          0.30198019801980197,\n          0.18316831683168316,\n          0.2623762376237624\n        ],\n        \"semantic_type\": \"\",\n        \"description\": \"\"\n      }\n    },\n    {\n      \"column\": \"consequent support\",\n      \"properties\": {\n        \"dtype\": \"number\",\n        \"std\": 0.06592404077702368,\n        \"min\": 0.18316831683168316,\n        \"max\": 0.30198019801980197,\n        \"num_unique_values\": 3,\n        \"samples\": [\n          0.18316831683168316,\n          0.30198019801980197,\n          0.19306930693069307\n        ],\n        \"semantic_type\": \"\",\n        \"description\": \"\"\n      }\n    },\n    {\n      \"column\": \"confidence\",\n      \"properties\": {\n        \"dtype\": \"number\",\n        \"std\": 0.15755835433512705,\n        \"min\": 0.3962264150943396,\n        \"max\": 0.6756756756756757,\n        \"num_unique_values\": 3,\n        \"samples\": [\n          0.4098360655737705,\n          0.6756756756756757,\n          0.3962264150943396\n        ],\n        \"semantic_type\": \"\",\n        \"description\": \"\"\n      }\n    },\n    {\n      \"column\": \"lift\",\n      \"properties\": {\n        \"dtype\": \"number\",\n        \"std\": 0.10694475419521172,\n        \"min\": 2.052249637155297,\n        \"max\": 2.237483385024369,\n        \"num_unique_values\": 3,\n        \"samples\": [\n          2.237483385024369,\n          2.2374833850243685,\n          2.052249637155297\n        ],\n        \"semantic_type\": \"\",\n        \"description\": \"\"\n      }\n    }\n  ]\n}",
       "type": "dataframe"
      },
      "text/html": [
       "\n",
       "  <div id=\"df-ad8d51ef-d5a8-4d88-946c-c5a4b417a8a7\" class=\"colab-df-container\">\n",
       "    <div>\n",
       "<style scoped>\n",
       "    .dataframe tbody tr th:only-of-type {\n",
       "        vertical-align: middle;\n",
       "    }\n",
       "\n",
       "    .dataframe tbody tr th {\n",
       "        vertical-align: top;\n",
       "    }\n",
       "\n",
       "    .dataframe thead th {\n",
       "        text-align: right;\n",
       "    }\n",
       "</style>\n",
       "<table border=\"1\" class=\"dataframe\">\n",
       "  <thead>\n",
       "    <tr style=\"text-align: right;\">\n",
       "      <th></th>\n",
       "      <th>antecedents</th>\n",
       "      <th>consequents</th>\n",
       "      <th>antecedent support</th>\n",
       "      <th>consequent support</th>\n",
       "      <th>confidence</th>\n",
       "      <th>lift</th>\n",
       "    </tr>\n",
       "  </thead>\n",
       "  <tbody>\n",
       "    <tr>\n",
       "      <th>0</th>\n",
       "      <td>(Gourd &amp; Cucumber)</td>\n",
       "      <td>(Brinjals)</td>\n",
       "      <td>0.301980</td>\n",
       "      <td>0.183168</td>\n",
       "      <td>0.409836</td>\n",
       "      <td>2.237483</td>\n",
       "    </tr>\n",
       "    <tr>\n",
       "      <th>1</th>\n",
       "      <td>(Brinjals)</td>\n",
       "      <td>(Gourd &amp; Cucumber)</td>\n",
       "      <td>0.183168</td>\n",
       "      <td>0.301980</td>\n",
       "      <td>0.675676</td>\n",
       "      <td>2.237483</td>\n",
       "    </tr>\n",
       "    <tr>\n",
       "      <th>2</th>\n",
       "      <td>(Other Vegetables)</td>\n",
       "      <td>(Beans)</td>\n",
       "      <td>0.262376</td>\n",
       "      <td>0.193069</td>\n",
       "      <td>0.396226</td>\n",
       "      <td>2.052250</td>\n",
       "    </tr>\n",
       "  </tbody>\n",
       "</table>\n",
       "</div>\n",
       "    <div class=\"colab-df-buttons\">\n",
       "\n",
       "  <div class=\"colab-df-container\">\n",
       "    <button class=\"colab-df-convert\" onclick=\"convertToInteractive('df-ad8d51ef-d5a8-4d88-946c-c5a4b417a8a7')\"\n",
       "            title=\"Convert this dataframe to an interactive table.\"\n",
       "            style=\"display:none;\">\n",
       "\n",
       "  <svg xmlns=\"http://www.w3.org/2000/svg\" height=\"24px\" viewBox=\"0 -960 960 960\">\n",
       "    <path d=\"M120-120v-720h720v720H120Zm60-500h600v-160H180v160Zm220 220h160v-160H400v160Zm0 220h160v-160H400v160ZM180-400h160v-160H180v160Zm440 0h160v-160H620v160ZM180-180h160v-160H180v160Zm440 0h160v-160H620v160Z\"/>\n",
       "  </svg>\n",
       "    </button>\n",
       "\n",
       "  <style>\n",
       "    .colab-df-container {\n",
       "      display:flex;\n",
       "      gap: 12px;\n",
       "    }\n",
       "\n",
       "    .colab-df-convert {\n",
       "      background-color: #E8F0FE;\n",
       "      border: none;\n",
       "      border-radius: 50%;\n",
       "      cursor: pointer;\n",
       "      display: none;\n",
       "      fill: #1967D2;\n",
       "      height: 32px;\n",
       "      padding: 0 0 0 0;\n",
       "      width: 32px;\n",
       "    }\n",
       "\n",
       "    .colab-df-convert:hover {\n",
       "      background-color: #E2EBFA;\n",
       "      box-shadow: 0px 1px 2px rgba(60, 64, 67, 0.3), 0px 1px 3px 1px rgba(60, 64, 67, 0.15);\n",
       "      fill: #174EA6;\n",
       "    }\n",
       "\n",
       "    .colab-df-buttons div {\n",
       "      margin-bottom: 4px;\n",
       "    }\n",
       "\n",
       "    [theme=dark] .colab-df-convert {\n",
       "      background-color: #3B4455;\n",
       "      fill: #D2E3FC;\n",
       "    }\n",
       "\n",
       "    [theme=dark] .colab-df-convert:hover {\n",
       "      background-color: #434B5C;\n",
       "      box-shadow: 0px 1px 3px 1px rgba(0, 0, 0, 0.15);\n",
       "      filter: drop-shadow(0px 1px 2px rgba(0, 0, 0, 0.3));\n",
       "      fill: #FFFFFF;\n",
       "    }\n",
       "  </style>\n",
       "\n",
       "    <script>\n",
       "      const buttonEl =\n",
       "        document.querySelector('#df-ad8d51ef-d5a8-4d88-946c-c5a4b417a8a7 button.colab-df-convert');\n",
       "      buttonEl.style.display =\n",
       "        google.colab.kernel.accessAllowed ? 'block' : 'none';\n",
       "\n",
       "      async function convertToInteractive(key) {\n",
       "        const element = document.querySelector('#df-ad8d51ef-d5a8-4d88-946c-c5a4b417a8a7');\n",
       "        const dataTable =\n",
       "          await google.colab.kernel.invokeFunction('convertToInteractive',\n",
       "                                                    [key], {});\n",
       "        if (!dataTable) return;\n",
       "\n",
       "        const docLinkHtml = 'Like what you see? Visit the ' +\n",
       "          '<a target=\"_blank\" href=https://colab.research.google.com/notebooks/data_table.ipynb>data table notebook</a>'\n",
       "          + ' to learn more about interactive tables.';\n",
       "        element.innerHTML = '';\n",
       "        dataTable['output_type'] = 'display_data';\n",
       "        await google.colab.output.renderOutput(dataTable, element);\n",
       "        const docLink = document.createElement('div');\n",
       "        docLink.innerHTML = docLinkHtml;\n",
       "        element.appendChild(docLink);\n",
       "      }\n",
       "    </script>\n",
       "  </div>\n",
       "\n",
       "\n",
       "<div id=\"df-c52091e6-315e-4867-8958-3b4991e2d1ad\">\n",
       "  <button class=\"colab-df-quickchart\" onclick=\"quickchart('df-c52091e6-315e-4867-8958-3b4991e2d1ad')\"\n",
       "            title=\"Suggest charts\"\n",
       "            style=\"display:none;\">\n",
       "\n",
       "<svg xmlns=\"http://www.w3.org/2000/svg\" height=\"24px\"viewBox=\"0 0 24 24\"\n",
       "     width=\"24px\">\n",
       "    <g>\n",
       "        <path d=\"M19 3H5c-1.1 0-2 .9-2 2v14c0 1.1.9 2 2 2h14c1.1 0 2-.9 2-2V5c0-1.1-.9-2-2-2zM9 17H7v-7h2v7zm4 0h-2V7h2v10zm4 0h-2v-4h2v4z\"/>\n",
       "    </g>\n",
       "</svg>\n",
       "  </button>\n",
       "\n",
       "<style>\n",
       "  .colab-df-quickchart {\n",
       "      --bg-color: #E8F0FE;\n",
       "      --fill-color: #1967D2;\n",
       "      --hover-bg-color: #E2EBFA;\n",
       "      --hover-fill-color: #174EA6;\n",
       "      --disabled-fill-color: #AAA;\n",
       "      --disabled-bg-color: #DDD;\n",
       "  }\n",
       "\n",
       "  [theme=dark] .colab-df-quickchart {\n",
       "      --bg-color: #3B4455;\n",
       "      --fill-color: #D2E3FC;\n",
       "      --hover-bg-color: #434B5C;\n",
       "      --hover-fill-color: #FFFFFF;\n",
       "      --disabled-bg-color: #3B4455;\n",
       "      --disabled-fill-color: #666;\n",
       "  }\n",
       "\n",
       "  .colab-df-quickchart {\n",
       "    background-color: var(--bg-color);\n",
       "    border: none;\n",
       "    border-radius: 50%;\n",
       "    cursor: pointer;\n",
       "    display: none;\n",
       "    fill: var(--fill-color);\n",
       "    height: 32px;\n",
       "    padding: 0;\n",
       "    width: 32px;\n",
       "  }\n",
       "\n",
       "  .colab-df-quickchart:hover {\n",
       "    background-color: var(--hover-bg-color);\n",
       "    box-shadow: 0 1px 2px rgba(60, 64, 67, 0.3), 0 1px 3px 1px rgba(60, 64, 67, 0.15);\n",
       "    fill: var(--button-hover-fill-color);\n",
       "  }\n",
       "\n",
       "  .colab-df-quickchart-complete:disabled,\n",
       "  .colab-df-quickchart-complete:disabled:hover {\n",
       "    background-color: var(--disabled-bg-color);\n",
       "    fill: var(--disabled-fill-color);\n",
       "    box-shadow: none;\n",
       "  }\n",
       "\n",
       "  .colab-df-spinner {\n",
       "    border: 2px solid var(--fill-color);\n",
       "    border-color: transparent;\n",
       "    border-bottom-color: var(--fill-color);\n",
       "    animation:\n",
       "      spin 1s steps(1) infinite;\n",
       "  }\n",
       "\n",
       "  @keyframes spin {\n",
       "    0% {\n",
       "      border-color: transparent;\n",
       "      border-bottom-color: var(--fill-color);\n",
       "      border-left-color: var(--fill-color);\n",
       "    }\n",
       "    20% {\n",
       "      border-color: transparent;\n",
       "      border-left-color: var(--fill-color);\n",
       "      border-top-color: var(--fill-color);\n",
       "    }\n",
       "    30% {\n",
       "      border-color: transparent;\n",
       "      border-left-color: var(--fill-color);\n",
       "      border-top-color: var(--fill-color);\n",
       "      border-right-color: var(--fill-color);\n",
       "    }\n",
       "    40% {\n",
       "      border-color: transparent;\n",
       "      border-right-color: var(--fill-color);\n",
       "      border-top-color: var(--fill-color);\n",
       "    }\n",
       "    60% {\n",
       "      border-color: transparent;\n",
       "      border-right-color: var(--fill-color);\n",
       "    }\n",
       "    80% {\n",
       "      border-color: transparent;\n",
       "      border-right-color: var(--fill-color);\n",
       "      border-bottom-color: var(--fill-color);\n",
       "    }\n",
       "    90% {\n",
       "      border-color: transparent;\n",
       "      border-bottom-color: var(--fill-color);\n",
       "    }\n",
       "  }\n",
       "</style>\n",
       "\n",
       "  <script>\n",
       "    async function quickchart(key) {\n",
       "      const quickchartButtonEl =\n",
       "        document.querySelector('#' + key + ' button');\n",
       "      quickchartButtonEl.disabled = true;  // To prevent multiple clicks.\n",
       "      quickchartButtonEl.classList.add('colab-df-spinner');\n",
       "      try {\n",
       "        const charts = await google.colab.kernel.invokeFunction(\n",
       "            'suggestCharts', [key], {});\n",
       "      } catch (error) {\n",
       "        console.error('Error during call to suggestCharts:', error);\n",
       "      }\n",
       "      quickchartButtonEl.classList.remove('colab-df-spinner');\n",
       "      quickchartButtonEl.classList.add('colab-df-quickchart-complete');\n",
       "    }\n",
       "    (() => {\n",
       "      let quickchartButtonEl =\n",
       "        document.querySelector('#df-c52091e6-315e-4867-8958-3b4991e2d1ad button');\n",
       "      quickchartButtonEl.style.display =\n",
       "        google.colab.kernel.accessAllowed ? 'block' : 'none';\n",
       "    })();\n",
       "  </script>\n",
       "</div>\n",
       "\n",
       "    </div>\n",
       "  </div>\n"
      ],
      "text/plain": [
       "          antecedents         consequents  antecedent support  \\\n",
       "0  (Gourd & Cucumber)          (Brinjals)            0.301980   \n",
       "1          (Brinjals)  (Gourd & Cucumber)            0.183168   \n",
       "2  (Other Vegetables)             (Beans)            0.262376   \n",
       "\n",
       "   consequent support  confidence      lift  \n",
       "0            0.183168    0.409836  2.237483  \n",
       "1            0.301980    0.675676  2.237483  \n",
       "2            0.193069    0.396226  2.052250  "
      ]
     },
     "execution_count": 16,
     "metadata": {},
     "output_type": "execute_result"
    }
   ],
   "source": [
    "apriori_recommender(df_raw, 'M36432', 0.1, 3)"
   ]
  },
  {
   "cell_type": "markdown",
   "metadata": {
    "id": "EA8hLewpDacb"
   },
   "source": [
    "Rule 0 - Gourd & Cucumber → Brinjals:\n",
    "\n",
    "Antecedent Support (0.301980): About 30.2% of all transactions include Gourd & Cucumber.\n",
    "Consequent Support (0.183168): About 18.3% of all transactions include Brinjals.\n",
    "Confidence (0.409836): When Gourd & Cucumber are bought, there's a 41% chance that Brinjals are also bought.\n",
    "Lift (2.237483): The likelihood of buying Brinjals given that Gourd & Cucumber are bought is 2.24 times the likelihood of buying Brinjals randomly. This suggests a strong association.\n",
    "\n",
    "\n",
    "Rule 2 - Brinjals → Gourd & Cucumber:\n",
    "\n",
    "Antecedent Support (0.183168): About 18.3% of all transactions include Brinjals.\n",
    "Consequent Support (0.301980): About 30.2% of all transactions include Gourd & Cucumber.\n",
    "Confidence (0.675676): When Brinjals are bought, there's a 67.6% chance that Gourd & Cucumber are also bought.\n",
    "Lift (2.237483): The likelihood of buying Gourd & Cucumber given that Brinjals are bought is 2.24 times the likelihood of buying Gourd & Cucumber randomly. This indicates a strong relationship, mirroring the first rule but in the reverse direction.\n",
    "\n",
    "\n",
    "Rule 3 - Beans → Other Vegetables:\n",
    "\n",
    "Antecedent Support (0.193069): About 19.3% of all transactions include Beans.\n",
    "Consequent Support (0.262376): About 26.2% of all transactions include Other Vegetables.\n",
    "Confidence (0.538462): When Beans are bought, there's a 53.8% chance that Other Vegetables are also bought.\n",
    "Lift (2.052250): The likelihood of buying Other Vegetables given that Beans are bought is 2.05 times the likelihood of buying Other Vegetables randomly, suggesting a significant association."
   ]
  },
  {
   "cell_type": "markdown",
   "metadata": {
    "id": "C4L3IJLdEbh3"
   },
   "source": [
    "#Q3"
   ]
  },
  {
   "cell_type": "markdown",
   "metadata": {
    "id": "vVBv9qu3EdXI"
   },
   "source": [
    "Assumption: HEre we are moving ahead with a combination of content based and colaborative filtering instead of just content based filtering which was given in the bigbasket case study. We used this approach to ensure we have higher amount of data for generating predictions and have an insight for the case as well as"
   ]
  },
  {
   "cell_type": "code",
   "execution_count": 17,
   "metadata": {
    "id": "lK2mUFqY2mDO"
   },
   "outputs": [],
   "source": [
    "def cosine_missing(df, order_id, top):\n",
    "    df_grouped = df.groupby(['Order'])['Description'].agg(list).reset_index()\n",
    "    te = TransactionEncoder()\n",
    "    te_ary = te.fit_transform(df_grouped['Description'])\n",
    "    df_te = pd.DataFrame(te_ary, columns=te.columns_)\n",
    "    cosine_sim = 1 - pairwise_distances(df_te, metric='cosine')\n",
    "    cosine_sim_df = pd.DataFrame(cosine_sim)\n",
    "    order_index = df_grouped.index[df_grouped['Order'] == order_id].tolist()[0]\n",
    "    sorted_indices = cosine_sim_df.iloc[order_index].sort_values(ascending=False).index.tolist()\n",
    "    top_indices = [idx for idx in sorted_indices if idx != order_index][:5]\n",
    "    similarity_scores = cosine_sim_df.iloc[order_index][top_indices].values\n",
    "    basket_items = df_grouped.iloc[order_index]['Description']\n",
    "    recommended_items_with_scores = [(item, cosine_sim_df.iloc[order_index][idx])\n",
    "                                     for idx, score in zip(top_indices, similarity_scores)\n",
    "                                     for item in df_grouped.iloc[idx]['Description']\n",
    "                                     if item not in basket_items][:top]\n",
    "    print(f\"Top {top} similar orders to order_id {order_id} (by index) are:\")\n",
    "    for idx, score in zip(top_indices, similarity_scores):\n",
    "        print(f\"Similar Order Index: {idx}, Order ID: {df_grouped.iloc[idx]['Order']}, Similarity Score: {score}\")\n",
    "    return recommended_items_with_scores"
   ]
  },
  {
   "cell_type": "code",
   "execution_count": 18,
   "metadata": {
    "colab": {
     "base_uri": "https://localhost:8080/"
    },
    "id": "KkU5RUPjZ2FW",
    "outputId": "b6bb307b-28c0-4fe6-a45a-a283135af177"
   },
   "outputs": [
    {
     "name": "stdout",
     "output_type": "stream",
     "text": [
      "Top 3 similar orders to order_id 6468572 (by index) are:\n",
      "Similar Order Index: 791, Order ID: 6687487, Similarity Score: 0.5962847939999438\n",
      "Similar Order Index: 360, Order ID: 6549521, Similarity Score: 0.5962847939999438\n",
      "Similar Order Index: 5786, Order ID: 7897662, Similarity Score: 0.5773502691896258\n",
      "Similar Order Index: 854, Order ID: 6704782, Similarity Score: 0.5555555555555555\n",
      "Similar Order Index: 5912, Order ID: 7931131, Similarity Score: 0.5499719409228703\n"
     ]
    },
    {
     "data": {
      "text/plain": [
       "[('Cookies', 0.5962847939999438),\n",
       " ('Raw Peanuts', 0.5962847939999438),\n",
       " ('Urad Dal', 0.5555555555555555)]"
      ]
     },
     "execution_count": 18,
     "metadata": {},
     "output_type": "execute_result"
    }
   ],
   "source": [
    "cosine_missing(df_f, 6468572, 3)"
   ]
  },
  {
   "cell_type": "markdown",
   "metadata": {
    "id": "ylu5fB5FC9nk"
   },
   "source": [
    "Recommended Items: Based on these similarities, the algorithm recommends items that are in these similar orders but not in the original order 6468572. The recommendations are 'Cookies', 'Raw Peanuts', and 'Urad Dal', with similarity scores tied to the scores of the orders they were found in. This implies these items could potentially interest the customer of order 6468572, as they are popular in orders that share similar purchase patterns.\n",
    "\n",
    "Business Benefits:\n",
    "\n",
    "Personalized Recommendations: By identifying items from similar orders, businesses can make personalized recommendations that are more likely to resonate with the customer, potentially leading to increased basket sizes and customer loyalty.\n",
    "Inventory Management: Insights from similarity patterns can also inform inventory management, ensuring high-demand products are adequately stocked.\n",
    "Market Basket Analysis: This approach is a form of market basket analysis, where the goal is to understand the relationships between products purchased together, facilitating effective bundling or promotions."
   ]
  },
  {
   "cell_type": "markdown",
   "metadata": {
    "id": "8g0CXZB2Dgcy"
   },
   "source": [
    "#Q4"
   ]
  },
  {
   "cell_type": "markdown",
   "metadata": {
    "id": "VwCFIKvfEF2W"
   },
   "source": [
    "Validating the recommendations generated by a combination of collaborative and content-based filtering involves assessing how well these recommendations meet user preferences and contribute to business metrics like engagement, conversion rates, and customer satisfaction. Below are several methods to verify the validity of the recommendations, along with their pros and cons:\n",
    "\n",
    "1 A/B Testing\n",
    "\n",
    "Pros:\n",
    "\n",
    "Directly measures impact on user behavior (e.g., increased sales or engagement).\n",
    "Provides clear, quantitative data on the effectiveness of recommendations.\n",
    "\n",
    "Cons:\n",
    "\n",
    "Requires a significant amount of traffic to achieve statistical significance.\n",
    "Might not capture long-term effects on user satisfaction and retention.\n",
    "\n",
    "2 User Surveys\n",
    "\n",
    "Pros:\n",
    "\n",
    "Gathers qualitative feedback on user satisfaction and recommendation relevance.\n",
    "Can identify specific areas for improvement not evident in behavioral data.\n",
    "\n",
    "Cons:\n",
    "\n",
    "Subject to response bias; respondents may not represent the entire user base.\n",
    "Low response rates can limit the usefulness and accuracy of the feedback.\n",
    "\n",
    "3 Offline Evaluation Metrics\n",
    "\n",
    "Pros:\n",
    "\n",
    "Allows rapid iteration and testing of different recommendation algorithms without affecting the live user experience.\n",
    "Can use historical data to predict the performance of recommendations.\n",
    "\n",
    "Cons:\n",
    "\n",
    "May not accurately reflect real-world user interactions or preferences.\n",
    "Relies on historical data, which may not capture current or future trends.\n",
    "\n",
    "4 Online User Interaction Tracking\n",
    "\n",
    "Pros:\n",
    "\n",
    "Provides real-time data on how users interact with recommendations (click-through rates, conversion rates).\n",
    "Can be used to dynamically adjust recommendations based on user behavior.\n",
    "\n",
    "Cons:\n",
    "\n",
    "May require sophisticated tracking and analysis infrastructure.\n",
    "Real-time adjustments can lead to user confusion or decreased trust if not managed carefully.\n",
    "\n",
    "Each of these methods offers valuable insights into the performance of recommendation systems, and they can be used in combination to provide a comprehensive understanding of how well the recommendations serve both the users and the business objectives. By carefully considering the pros and cons, businesses can select the most appropriate validation methods to ensure their recommendation systems are effectively meeting user needs and driving business goals."
   ]
  }
 ],
 "metadata": {
  "colab": {
   "provenance": []
  },
  "kernelspec": {
   "display_name": "Python 3",
   "language": "python",
   "name": "python3"
  },
  "language_info": {
   "codemirror_mode": {
    "name": "ipython",
    "version": 3
   },
   "file_extension": ".py",
   "mimetype": "text/x-python",
   "name": "python",
   "nbconvert_exporter": "python",
   "pygments_lexer": "ipython3",
   "version": "3.8.8"
  }
 },
 "nbformat": 4,
 "nbformat_minor": 4
}
